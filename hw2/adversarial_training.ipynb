{
 "cells": [
  {
   "cell_type": "markdown",
   "metadata": {
    "id": "Whsg1XX_OZs6"
   },
   "source": [
    "# Boilerplate\n",
    "\n",
    "Packae installation, loading, and dataloaders. There's also a simple model defined. You can change it your favourite architecture if you want."
   ]
  },
  {
   "cell_type": "code",
   "execution_count": 1,
   "metadata": {
    "id": "R1domTvnONqD"
   },
   "outputs": [],
   "source": [
    "import torch\n",
    "import torch.nn as nn\n",
    "import torch.optim as optim\n",
    "import torch.nn.functional as F\n",
    "import numpy as np\n",
    "import time\n",
    "\n",
    "from torchvision import datasets, transforms\n",
    "from tensorboardX import SummaryWriter\n",
    "\n",
    "use_cuda = False\n",
    "device = torch.device(\"cuda\" if use_cuda else \"cpu\")\n",
    "batch_size = 64\n",
    "\n",
    "np.random.seed(42)\n",
    "torch.manual_seed(42)\n",
    "\n",
    "\n",
    "## Dataloaders\n",
    "train_dataset = datasets.MNIST('mnist_data/', train=True, download=True, transform=transforms.Compose(\n",
    "    [transforms.ToTensor()]\n",
    "))\n",
    "test_dataset = datasets.MNIST('mnist_data/', train=False, download=True, transform=transforms.Compose(\n",
    "    [transforms.ToTensor()]\n",
    "))\n",
    "\n",
    "train_loader = torch.utils.data.DataLoader(train_dataset, batch_size=batch_size, shuffle=True)\n",
    "test_loader = torch.utils.data.DataLoader(test_dataset, batch_size=batch_size, shuffle=False)\n",
    "\n",
    "## Simple NN. You can change this if you want.\n",
    "class Net(nn.Module):\n",
    "    def __init__(self):\n",
    "        super(Net, self).__init__()\n",
    "        self.fc = nn.Linear(28*28, 200)\n",
    "        self.fc2 = nn.Linear(200,40)\n",
    "        self.fc3 = nn.Linear(40,10)\n",
    "\n",
    "    def forward(self, x):\n",
    "        x = x.view((-1, 28*28))\n",
    "        x = F.relu(self.fc(x))\n",
    "        x = F.relu(self.fc2(x))\n",
    "        x = self.fc3(x)\n",
    "        return x\n",
    "\n",
    "class Normalize(nn.Module):\n",
    "    def forward(self, x):\n",
    "        return (x - 0.1307)/0.3081\n",
    "\n",
    "# Add the data normalization as a first \"layer\" to the network\n",
    "# this allows us to search for adverserial examples to the real image, rather than\n",
    "# to the normalized image"
   ]
  },
  {
   "cell_type": "markdown",
   "metadata": {
    "id": "NCmWfZHTO8Oo"
   },
   "source": [
    "# Implement the Attacks\n",
    "\n",
    "Functions are given a simple useful signature that you can start with. Feel free to extend the signature as you see fit.\n",
    "\n",
    "You may find it useful to create a 'batched' version of PGD that you can use to create the adversarial attack."
   ]
  },
  {
   "cell_type": "code",
   "execution_count": 2,
   "metadata": {
    "id": "EZjvA49yONqP"
   },
   "outputs": [],
   "source": [
    "def fgsm(model, x, eps, eps_step, targeted=False, target=-1):\n",
    "    dataset = []\n",
    "    \n",
    "    if targeted:\n",
    "        for batch_idx, (x_batch, y_batch) in enumerate(x):\n",
    "            x_batch, y_batch = x_batch.to(device), y_batch.to(device)\n",
    "            adv_x = x_batch.clone().detach()\n",
    "            adv_x.requires_grad_()\n",
    "            loss = torch.nn.CrossEntropyLoss()(model(adv_x), torch.tensor([target]*adv_x.shape[0], dtype=torch.long))\n",
    "            loss.backward()\n",
    "            with torch.no_grad():\n",
    "                adv_x -= eps_step * torch.sign(adv_x.grad)\n",
    "                adv_x = torch.clamp(adv_x, x_batch - eps, x_batch + eps)\n",
    "                adv_x = torch.clamp(adv_x, 0, 1)\n",
    "            \n",
    "            for i in range(adv_x.shape[0]):\n",
    "                dataset.append((adv_x[i], y_batch[i]))\n",
    "    else:\n",
    "        for batch_idx, (x_batch, y_batch) in enumerate(x):\n",
    "            x_batch, y_batch = x_batch.to(device), y_batch.to(device)\n",
    "            adv_x = x_batch.clone().detach()\n",
    "            adv_x.requires_grad_()\n",
    "            loss = torch.nn.CrossEntropyLoss()(model(adv_x), y_batch)\n",
    "            loss.backward()\n",
    "            with torch.no_grad():\n",
    "                adv_x += eps_step * torch.sign(adv_x.grad)\n",
    "                adv_x = torch.clamp(adv_x, x_batch - eps, x_batch + eps)\n",
    "                adv_x = torch.clamp(adv_x, 0, 1)\n",
    "            \n",
    "            for i in range(adv_x.shape[0]):\n",
    "                dataset.append((adv_x[i], y_batch[i]))\n",
    "    \n",
    "    return torch.utils.data.DataLoader(dataset, batch_size=batch_size, shuffle=False)\n",
    "\n",
    "\n",
    "def pgd_untargeted(model, x, eps, eps_step, k):\n",
    "    dataset = []\n",
    "    for batch_idx, (x_batch, y_batch) in enumerate(x):\n",
    "        x_batch, y_batch = x_batch.to(device), y_batch.to(device)\n",
    "        adv_x = x_batch.clone().detach()\n",
    "        adv_x.requires_grad_()\n",
    "        for _ in range(k):\n",
    "            loss = torch.nn.CrossEntropyLoss()(model(adv_x), y_batch)\n",
    "            loss.backward()\n",
    "            with torch.no_grad():\n",
    "                adv_x += eps_step * torch.sign(adv_x.grad)\n",
    "                adv_x += torch.clamp(adv_x, x_batch - eps, x_batch + eps) - adv_x\n",
    "                adv_x += torch.clamp(adv_x, 0, 1) - adv_x\n",
    "            adv_x.grad.zero_()\n",
    "\n",
    "        for i in range(adv_x.shape[0]):\n",
    "            dataset.append((adv_x[i], y_batch[i]))\n",
    "    \n",
    "    return torch.utils.data.DataLoader(dataset, batch_size=batch_size, shuffle=False)"
   ]
  },
  {
   "cell_type": "markdown",
   "metadata": {
    "id": "0Mja_AB4RykO"
   },
   "source": [
    "# Implement Adversarial Training"
   ]
  },
  {
   "cell_type": "code",
   "execution_count": 3,
   "metadata": {
    "id": "V-sw8yKYONqQ"
   },
   "outputs": [],
   "source": [
    "def train_model(model, num_epochs, enable_defense=True):\n",
    "    learning_rate = 0.0001\n",
    "\n",
    "    opt = optim.Adam(params=model.parameters(), lr=learning_rate)\n",
    "\n",
    "    ce_loss = torch.nn.CrossEntropyLoss()\n",
    "\n",
    "    tot_steps = 0\n",
    "\n",
    "    for epoch in range(1,num_epochs+1):\n",
    "        t1 = time.time()\n",
    "        \n",
    "        \n",
    "        if enable_defense:\n",
    "            pgd_loader_list = list(pgd_untargeted(model, train_loader, 0.05, 0.01, 6))\n",
    "\n",
    "        for batch_idx, (x_batch, y_batch) in enumerate(train_loader):\n",
    "            x_batch, y_batch = x_batch.to(device), y_batch.to(device)\n",
    "            \n",
    "            if enable_defense:\n",
    "                (adv_x, adv_y) = pgd_loader_list[batch_idx]\n",
    "                x_batch = torch.cat((x_batch, adv_x.detach()), 0)\n",
    "                y_batch = torch.cat((y_batch, adv_y.detach()), 0)\n",
    "               \n",
    "            tot_steps += 1\n",
    "            opt.zero_grad()\n",
    "            out = model(x_batch)\n",
    "            batch_loss = ce_loss(out, y_batch)\n",
    "            batch_loss.backward()\n",
    "            opt.step()\n",
    "\n",
    "        tot_test, tot_acc = 0.0, 0.0\n",
    "        for batch_idx, (x_batch, y_batch) in enumerate(test_loader):\n",
    "            x_batch, y_batch = x_batch.to(device), y_batch.to(device)\n",
    "            out = model(x_batch)\n",
    "            pred = torch.max(out, dim=1)[1]\n",
    "            acc = pred.eq(y_batch).sum().item()\n",
    "            tot_acc += acc\n",
    "            tot_test += x_batch.size()[0]\n",
    "        t2 = time.time()\n",
    "\n",
    "        print('Epoch %d: Accuracy %.5lf [%.2lf seconds]' % (epoch, tot_acc/tot_test, t2-t1))"
   ]
  },
  {
   "cell_type": "markdown",
   "metadata": {
    "id": "ZPMdfEhtR3zm"
   },
   "source": [
    "# Study Accuracy, Quality, etc.\n",
    "\n",
    "Compare the various results and report your observations on the submission."
   ]
  },
  {
   "cell_type": "code",
   "execution_count": 4,
   "metadata": {},
   "outputs": [],
   "source": [
    "def get_accuracy(model, data):\n",
    "    tot_test, tot_acc = 0.0, 0.0\n",
    "    for batch_idx, (x_batch, y_batch) in enumerate(data):\n",
    "        x_batch, y_batch = x_batch.to(device), y_batch.to(device)\n",
    "        out = model(x_batch)\n",
    "        pred = torch.max(out, dim=1)[1]\n",
    "        acc = pred.eq(y_batch).sum().item()\n",
    "        tot_acc += acc\n",
    "        tot_test += x_batch.size()[0]\n",
    "    return tot_acc/tot_test"
   ]
  },
  {
   "cell_type": "markdown",
   "metadata": {},
   "source": [
    "## Training with no defense"
   ]
  },
  {
   "cell_type": "code",
   "execution_count": 5,
   "metadata": {
    "id": "ufD-ccTFR8R2"
   },
   "outputs": [
    {
     "name": "stdout",
     "output_type": "stream",
     "text": [
      "Epoch 1: Accuracy 0.91850 [8.67 seconds]\n",
      "Epoch 2: Accuracy 0.93520 [8.60 seconds]\n",
      "Epoch 3: Accuracy 0.94570 [8.69 seconds]\n",
      "Epoch 4: Accuracy 0.95360 [9.45 seconds]\n",
      "Epoch 5: Accuracy 0.95680 [10.39 seconds]\n",
      "Epoch 6: Accuracy 0.96030 [9.89 seconds]\n",
      "Epoch 7: Accuracy 0.96520 [9.98 seconds]\n",
      "Epoch 8: Accuracy 0.96680 [10.09 seconds]\n",
      "Epoch 9: Accuracy 0.97030 [9.70 seconds]\n",
      "Epoch 10: Accuracy 0.96900 [9.61 seconds]\n",
      "Epoch 11: Accuracy 0.97270 [9.13 seconds]\n",
      "Epoch 12: Accuracy 0.97330 [9.23 seconds]\n",
      "Epoch 13: Accuracy 0.97490 [9.29 seconds]\n",
      "Epoch 14: Accuracy 0.97310 [9.30 seconds]\n",
      "Epoch 15: Accuracy 0.97500 [9.30 seconds]\n",
      "Epoch 16: Accuracy 0.97530 [9.30 seconds]\n",
      "Epoch 17: Accuracy 0.97540 [9.46 seconds]\n",
      "Epoch 18: Accuracy 0.97570 [9.40 seconds]\n",
      "Epoch 19: Accuracy 0.97760 [9.35 seconds]\n",
      "Epoch 20: Accuracy 0.97770 [9.30 seconds]\n"
     ]
    }
   ],
   "source": [
    "model = nn.Sequential(Normalize(), Net())\n",
    "model = model.to(device)\n",
    "model.train()\n",
    "train_model(model, 20, False)"
   ]
  },
  {
   "cell_type": "code",
   "execution_count": 6,
   "metadata": {},
   "outputs": [
    {
     "name": "stdout",
     "output_type": "stream",
     "text": [
      "Accuracy on test set = 0.9777\n",
      "Accuracy on test set perturbed with FGSM = 0.7858\n",
      "Accuracy on test set perturbed with PGD = 0.6229\n"
     ]
    }
   ],
   "source": [
    "test_acc = get_accuracy(model, test_loader)\n",
    "print(\"Accuracy on test set =\", test_acc)\n",
    "fgsm_untarget_acc = get_accuracy(model, fgsm(model, test_loader, 0.1, 0.04))\n",
    "print(\"Accuracy on test set perturbed with FGSM =\", fgsm_untarget_acc)\n",
    "pgd_untarget_acc = get_accuracy(model, pgd_untargeted(model, test_loader, 0.05, 0.01, 6))\n",
    "print(\"Accuracy on test set perturbed with PGD =\", pgd_untarget_acc)"
   ]
  },
  {
   "cell_type": "markdown",
   "metadata": {},
   "source": [
    "## Robust training"
   ]
  },
  {
   "cell_type": "code",
   "execution_count": 7,
   "metadata": {},
   "outputs": [
    {
     "name": "stdout",
     "output_type": "stream",
     "text": [
      "Epoch 1: Accuracy 0.92350 [24.99 seconds]\n",
      "Epoch 2: Accuracy 0.94250 [25.45 seconds]\n",
      "Epoch 3: Accuracy 0.95620 [25.77 seconds]\n",
      "Epoch 4: Accuracy 0.96340 [27.23 seconds]\n",
      "Epoch 5: Accuracy 0.96730 [34.21 seconds]\n",
      "Epoch 6: Accuracy 0.97080 [29.08 seconds]\n",
      "Epoch 7: Accuracy 0.97060 [27.99 seconds]\n",
      "Epoch 8: Accuracy 0.97430 [29.33 seconds]\n",
      "Epoch 9: Accuracy 0.97440 [28.98 seconds]\n",
      "Epoch 10: Accuracy 0.97850 [28.66 seconds]\n",
      "Epoch 11: Accuracy 0.97720 [29.07 seconds]\n",
      "Epoch 12: Accuracy 0.97890 [27.57 seconds]\n",
      "Epoch 13: Accuracy 0.97900 [26.20 seconds]\n",
      "Epoch 14: Accuracy 0.98080 [28.48 seconds]\n",
      "Epoch 15: Accuracy 0.97910 [26.62 seconds]\n",
      "Epoch 16: Accuracy 0.97990 [26.09 seconds]\n",
      "Epoch 17: Accuracy 0.98110 [25.79 seconds]\n",
      "Epoch 18: Accuracy 0.98210 [29.06 seconds]\n",
      "Epoch 19: Accuracy 0.98210 [26.01 seconds]\n",
      "Epoch 20: Accuracy 0.98160 [26.24 seconds]\n"
     ]
    }
   ],
   "source": [
    "robust_model = nn.Sequential(Normalize(), Net())\n",
    "robust_model = robust_model.to(device)\n",
    "robust_model.train()\n",
    "train_model(robust_model, 20, True)"
   ]
  },
  {
   "cell_type": "code",
   "execution_count": 8,
   "metadata": {},
   "outputs": [
    {
     "name": "stdout",
     "output_type": "stream",
     "text": [
      "Accuracy on test set = 0.9816\n",
      "Accuracy on test set perturbed with FGSM = 0.8218\n",
      "Accuracy on test set perturbed with PGD = 0.6884\n"
     ]
    }
   ],
   "source": [
    "test_acc = get_accuracy(robust_model, test_loader)\n",
    "print(\"Accuracy on test set =\", test_acc)\n",
    "fgsm_untarget_acc = get_accuracy(robust_model, fgsm(robust_model, test_loader, 0.1, 0.04))\n",
    "print(\"Accuracy on test set perturbed with FGSM =\", fgsm_untarget_acc)\n",
    "pgd_untarget_acc = get_accuracy(robust_model, pgd_untargeted(robust_model, test_loader, 0.05, 0.01, 6))\n",
    "print(\"Accuracy on test set perturbed with PGD =\", pgd_untarget_acc)"
   ]
  },
  {
   "cell_type": "markdown",
   "metadata": {},
   "source": [
    "## Adversarial image quality (PGD attack)"
   ]
  },
  {
   "cell_type": "code",
   "execution_count": 9,
   "metadata": {},
   "outputs": [],
   "source": [
    "import matplotlib.pyplot as plt\n",
    "def show(model, img, label):\n",
    "    plt.imshow(img.detach().numpy().reshape(28,28), cmap=\"gray\")\n",
    "    plt.show()\n",
    "    print(\"Dataset image prediction =\", torch.max(model(img), dim=1)[1][0])\n",
    "    \n",
    "    _adv_img = pgd_untargeted(model, [(img[None,:,:,:], torch.tensor([label], dtype=torch.long))], 0.05, 0.01, 6)\n",
    "    adv_img = list(_adv_img)[0][0][0]\n",
    "    plt.imshow(adv_img.detach().numpy().reshape(28,28), cmap=\"gray\")\n",
    "    plt.show()\n",
    "    print(\"Adversarial image prediction =\", torch.max(model(adv_img), dim=1)[1][0])"
   ]
  },
  {
   "cell_type": "code",
   "execution_count": 12,
   "metadata": {
    "scrolled": false
   },
   "outputs": [
    {
     "data": {
      "image/png": "[encoded data removed]",
      "text/plain": [
       "<Figure size 432x288 with 1 Axes>"
      ]
     },
     "metadata": {
      "needs_background": "light"
     },
     "output_type": "display_data"
    },
    {
     "name": "stdout",
     "output_type": "stream",
     "text": [
      "Dataset image prediction = tensor(8)\n"
     ]
    },
    {
     "data": {
      "image/png": "[encoded data removed]",
      "text/plain": [
       "<Figure size 432x288 with 1 Axes>"
      ]
     },
     "metadata": {
      "needs_background": "light"
     },
     "output_type": "display_data"
    },
    {
     "name": "stdout",
     "output_type": "stream",
     "text": [
      "Adversarial image prediction = tensor(6)\n"
     ]
    }
   ],
   "source": [
    "show(model, *test_dataset[344]) # try any number in range(10000)"
   ]
  },
  {
   "cell_type": "markdown",
   "metadata": {},
   "source": [
    "### Robust model is safe from PGD attack for this image but the base model is not robust"
   ]
  },
  {
   "cell_type": "code",
   "execution_count": 11,
   "metadata": {},
   "outputs": [
    {
     "data": {
      "image/png": "[encoded data removed]",
      "text/plain": [
       "<Figure size 432x288 with 1 Axes>"
      ]
     },
     "metadata": {
      "needs_background": "light"
     },
     "output_type": "display_data"
    },
    {
     "name": "stdout",
     "output_type": "stream",
     "text": [
      "Dataset image prediction = tensor(8)\n"
     ]
    },
    {
     "data": {
      "image/png": "[encoded data removed]",
      "text/plain": [
       "<Figure size 432x288 with 1 Axes>"
      ]
     },
     "metadata": {
      "needs_background": "light"
     },
     "output_type": "display_data"
    },
    {
     "name": "stdout",
     "output_type": "stream",
     "text": [
      "Adversarial image prediction = tensor(8)\n"
     ]
    }
   ],
   "source": [
    "show(robust_model, *test_dataset[344])"
   ]
  },
  {
   "cell_type": "markdown",
   "metadata": {},
   "source": [
    "### Carlini and Wagner attack gives a lower accuracy rate on the robust model"
   ]
  },
  {
   "cell_type": "code",
   "execution_count": 67,
   "metadata": {},
   "outputs": [],
   "source": [
    "def carlini_wagner(model, x, eps, eps_step, k):\n",
    "    dataset = []\n",
    "    for batch_idx, (x_batch, y_batch) in enumerate(x):\n",
    "        x_batch, y_batch = x_batch.to(device), y_batch.to(device)\n",
    "        adv_x = x_batch.clone().detach()\n",
    "        adv_x.requires_grad_()\n",
    "        for _ in range(k):\n",
    "            loss = torch.nn.CrossEntropyLoss()(model(adv_x), y_batch) - \\\n",
    "                                                torch.norm(x_batch-adv_x, p=float('inf'))\n",
    "            loss.backward()\n",
    "            with torch.no_grad():\n",
    "                adv_x += eps_step * torch.sign(adv_x.grad)\n",
    "                adv_x += torch.clamp(adv_x, x_batch - eps, x_batch + eps) - adv_x\n",
    "                adv_x += torch.clamp(adv_x, 0, 1) - adv_x\n",
    "            adv_x.grad.zero_()\n",
    "\n",
    "        for i in range(adv_x.shape[0]):\n",
    "            dataset.append((adv_x[i], y_batch[i]))\n",
    "    \n",
    "    return torch.utils.data.DataLoader(dataset, batch_size=batch_size, shuffle=False)"
   ]
  },
  {
   "cell_type": "code",
   "execution_count": 72,
   "metadata": {},
   "outputs": [
    {
     "name": "stdout",
     "output_type": "stream",
     "text": [
      "Accuracy on test set perturbed with CW attack = 0.6754\n"
     ]
    }
   ],
   "source": [
    "cw_acc = get_accuracy(robust_model, carlini_wagner(robust_model, test_loader, 0.05, 0.001, 100))\n",
    "print(\"Accuracy on test set perturbed with CW attack =\", cw_acc)"
   ]
  },
  {
   "cell_type": "code",
   "execution_count": null,
   "metadata": {},
   "outputs": [],
   "source": []
  }
 ],
 "metadata": {
  "colab": {
   "provenance": []
  },
  "kernelspec": {
   "display_name": "Python 3 (ipykernel)",
   "language": "python",
   "name": "python3"
  },
  "language_info": {
   "codemirror_mode": {
    "name": "ipython",
    "version": 3
   },
   "file_extension": ".py",
   "mimetype": "text/x-python",
   "name": "python",
   "nbconvert_exporter": "python",
   "pygments_lexer": "ipython3",
   "version": "3.8.10"
  }
 },
 "nbformat": 4,
 "nbformat_minor": 1
}
