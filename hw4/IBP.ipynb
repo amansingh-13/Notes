{
 "cells": [
  {
   "cell_type": "code",
   "execution_count": 1,
   "id": "91b5b5d3",
   "metadata": {},
   "outputs": [],
   "source": [
    "import torch\n",
    "import torch.nn as nn\n",
    "import torch.optim as optim\n",
    "import torch.nn.functional as F\n",
    "import numpy as np\n",
    "import time\n",
    "\n",
    "from torchvision import datasets, transforms\n",
    "\n",
    "device = torch.device(\"cpu\")\n",
    "batch_size = 64\n",
    "\n",
    "np.random.seed(42)\n",
    "torch.manual_seed(42)\n",
    "\n",
    "train_dataset = datasets.MNIST('mnist_data/', train=True, download=True, transform=transforms.Compose(\n",
    "    [transforms.ToTensor()]\n",
    "))\n",
    "test_dataset = datasets.MNIST('mnist_data/', train=False, download=True, transform=transforms.Compose(\n",
    "    [transforms.ToTensor()]\n",
    "))\n",
    "\n",
    "train_loader = torch.utils.data.DataLoader(train_dataset, batch_size=batch_size, shuffle=True)\n",
    "test_loader = torch.utils.data.DataLoader(test_dataset, batch_size=batch_size, shuffle=False)"
   ]
  },
  {
   "cell_type": "code",
   "execution_count": 2,
   "id": "faade437",
   "metadata": {},
   "outputs": [],
   "source": [
    "class Net(nn.Module):\n",
    "    def __init__(self):\n",
    "        super(Net, self).__init__()\n",
    "        self.fc1 = nn.Linear(28*28, 50)\n",
    "        self.fc2 = nn.Linear(50,50)\n",
    "        self.fc3 = nn.Linear(50,50)\n",
    "        self.fc4 = nn.Linear(50,10)\n",
    "\n",
    "    def forward(self, x):\n",
    "        x = x.view((-1, 28*28))\n",
    "        x = F.relu(self.fc1(x))\n",
    "        x = F.relu(self.fc2(x))\n",
    "        x = F.relu(self.fc3(x))\n",
    "        x = self.fc4(x)\n",
    "        return x"
   ]
  },
  {
   "cell_type": "code",
   "execution_count": 3,
   "id": "864e374e",
   "metadata": {},
   "outputs": [],
   "source": [
    "def train_model(model, num_epochs):\n",
    "    learning_rate = 0.0001\n",
    "    opt = optim.Adam(params=model.parameters(), lr=learning_rate)\n",
    "    ce_loss = torch.nn.CrossEntropyLoss()\n",
    "\n",
    "    for epoch in range(1,num_epochs+1):\n",
    "        t1 = time.time()\n",
    "\n",
    "        for batch_idx, (x_batch, y_batch) in enumerate(train_loader):\n",
    "            x_batch, y_batch = x_batch.to(device), y_batch.to(device)      \n",
    "            opt.zero_grad()\n",
    "            out = model(x_batch)\n",
    "            batch_loss = ce_loss(out, y_batch)\n",
    "            batch_loss.backward()\n",
    "            opt.step()\n",
    "\n",
    "        tot_test, tot_acc = 0.0, 0.0\n",
    "        for batch_idx, (x_batch, y_batch) in enumerate(test_loader):\n",
    "            x_batch, y_batch = x_batch.to(device), y_batch.to(device)\n",
    "            out = model(x_batch)\n",
    "            pred = torch.max(out, dim=1)[1]\n",
    "            acc = pred.eq(y_batch).sum().item()\n",
    "            tot_acc += acc\n",
    "            tot_test += x_batch.size()[0]\n",
    "        t2 = time.time()\n",
    "\n",
    "        print('Epoch %d: Accuracy %.5lf [%.2lf seconds]' % (epoch, tot_acc/tot_test, t2-t1))"
   ]
  },
  {
   "cell_type": "code",
   "execution_count": 4,
   "id": "03254235",
   "metadata": {},
   "outputs": [
    {
     "name": "stderr",
     "output_type": "stream",
     "text": [
      "/home/aman/.local/lib/python3.8/site-packages/torch/autograd/__init__.py:200: UserWarning: CUDA initialization: CUDA unknown error - this may be due to an incorrectly set up environment, e.g. changing env variable CUDA_VISIBLE_DEVICES after program start. Setting the available devices to be zero. (Triggered internally at ../c10/cuda/CUDAFunctions.cpp:109.)\n",
      "  Variable._execution_engine.run_backward(  # Calls into the C++ engine to run the backward pass\n"
     ]
    },
    {
     "name": "stdout",
     "output_type": "stream",
     "text": [
      "Epoch 1: Accuracy 0.86280 [9.43 seconds]\n",
      "Epoch 2: Accuracy 0.90360 [11.19 seconds]\n",
      "Epoch 3: Accuracy 0.91270 [10.79 seconds]\n",
      "Epoch 4: Accuracy 0.91880 [11.07 seconds]\n",
      "Epoch 5: Accuracy 0.92410 [10.66 seconds]\n",
      "Epoch 6: Accuracy 0.92990 [10.97 seconds]\n",
      "Epoch 7: Accuracy 0.93310 [10.62 seconds]\n",
      "Epoch 8: Accuracy 0.93580 [11.56 seconds]\n",
      "Epoch 9: Accuracy 0.93970 [10.62 seconds]\n",
      "Epoch 10: Accuracy 0.94150 [9.90 seconds]\n",
      "Epoch 11: Accuracy 0.94430 [10.37 seconds]\n",
      "Epoch 12: Accuracy 0.94610 [10.85 seconds]\n",
      "Epoch 13: Accuracy 0.94980 [11.13 seconds]\n",
      "Epoch 14: Accuracy 0.95010 [10.84 seconds]\n",
      "Epoch 15: Accuracy 0.95350 [10.52 seconds]\n",
      "Epoch 16: Accuracy 0.95540 [10.45 seconds]\n",
      "Epoch 17: Accuracy 0.95700 [10.56 seconds]\n",
      "Epoch 18: Accuracy 0.95690 [9.90 seconds]\n",
      "Epoch 19: Accuracy 0.95770 [11.18 seconds]\n",
      "Epoch 20: Accuracy 0.96040 [11.24 seconds]\n",
      "Epoch 21: Accuracy 0.96100 [11.49 seconds]\n",
      "Epoch 22: Accuracy 0.96040 [11.16 seconds]\n",
      "Epoch 23: Accuracy 0.96250 [10.21 seconds]\n",
      "Epoch 24: Accuracy 0.96430 [9.54 seconds]\n",
      "Epoch 25: Accuracy 0.96320 [11.63 seconds]\n",
      "Epoch 26: Accuracy 0.96410 [11.42 seconds]\n",
      "Epoch 27: Accuracy 0.96480 [10.83 seconds]\n",
      "Epoch 28: Accuracy 0.96310 [10.62 seconds]\n",
      "Epoch 29: Accuracy 0.96580 [10.80 seconds]\n",
      "Epoch 30: Accuracy 0.96670 [10.16 seconds]\n"
     ]
    }
   ],
   "source": [
    "base_model = nn.Sequential(Net())\n",
    "base_model = base_model.to(device)\n",
    "base_model.train()\n",
    "train_model(base_model, 30)"
   ]
  },
  {
   "cell_type": "code",
   "execution_count": 5,
   "id": "aa623bef",
   "metadata": {},
   "outputs": [],
   "source": [
    "def get_interval_input(img, delta):\n",
    "    il = torch.maximum(img - delta, torch.tensor(0))\n",
    "    iu = torch.minimum(img + delta, torch.tensor(1))\n",
    "    return il, iu"
   ]
  },
  {
   "cell_type": "code",
   "execution_count": 6,
   "id": "00955a04",
   "metadata": {
    "scrolled": true
   },
   "outputs": [],
   "source": [
    "def get_robust_accuracy(model, delta):\n",
    "    tot_test, tot_acc = 0.0, 0.0\n",
    "    for batch_idx, (x_batch, y_batch) in enumerate(test_loader):\n",
    "        x_batch, y_batch = x_batch.to(device), y_batch.to(device)\n",
    "        w0,b0,w1,b1,w2,b2,w3,b3 = model.parameters()\n",
    "        b0, b1, b2, b3 = b0.reshape(-1,1), b1.reshape(-1,1), b2.reshape(-1,1), b3.reshape(-1,1)\n",
    "        \n",
    "        il, iu = get_interval_input(x_batch, delta)\n",
    "        il, iu = il.view((-1,784,1)), iu.view((-1,784,1))\n",
    "            \n",
    "        l1l = torch.matmul(torch.maximum(w0, torch.tensor(0)), il) + torch.matmul(torch.minimum(w0, torch.tensor(0)), iu)\n",
    "        l1u = torch.matmul(torch.maximum(w0, torch.tensor(0)), iu) + torch.matmul(torch.minimum(w0, torch.tensor(0)), il)\n",
    "        l1l, l1u = torch.maximum(l1l + b0, torch.tensor(0)), torch.maximum(l1u + b0, torch.tensor(0))\n",
    "\n",
    "        l2l = torch.matmul(torch.maximum(w1, torch.tensor(0)), l1l) + torch.matmul(torch.minimum(w1, torch.tensor(0)), l1u)\n",
    "        l2u = torch.matmul(torch.maximum(w1, torch.tensor(0)), l1u) + torch.matmul(torch.minimum(w1, torch.tensor(0)), l1l)\n",
    "        l2l, l2u = torch.maximum(l2l + b1, torch.tensor(0)), torch.maximum(l2u + b1, torch.tensor(0))\n",
    "\n",
    "        l3l = torch.matmul(torch.maximum(w2, torch.tensor(0)), l2l) + torch.matmul(torch.minimum(w2, torch.tensor(0)), l2u)\n",
    "        l3u = torch.matmul(torch.maximum(w2, torch.tensor(0)), l2u) + torch.matmul(torch.minimum(w2, torch.tensor(0)), l2l)\n",
    "        l3l, l3u = torch.maximum(l3l + b2, torch.tensor(0)), torch.maximum(l3u + b2, torch.tensor(0))\n",
    "\n",
    "        ol = torch.matmul(torch.maximum(w3, torch.tensor(0)), l3l) + torch.matmul(torch.minimum(w3, torch.tensor(0)), l3u)\n",
    "        ou = torch.matmul(torch.maximum(w3, torch.tensor(0)), l3u) + torch.matmul(torch.minimum(w3, torch.tensor(0)), l3l)\n",
    "        ol, ou = ol + b3, ou + b3\n",
    "\n",
    "        for idx, t in enumerate(y_batch):\n",
    "            robust = True\n",
    "            for j in range(10):\n",
    "                if j != t:\n",
    "                    robust = robust and (ol[idx][t] > ou[idx][j])\n",
    "            tot_acc += 1 if robust else 0\n",
    "    \n",
    "        tot_test += x_batch.size()[0]\n",
    "    print('Epsilon %.3lf: Robust accuracy %.5lf' % (delta, tot_acc/tot_test))"
   ]
  },
  {
   "cell_type": "code",
   "execution_count": 7,
   "id": "214e25cc",
   "metadata": {},
   "outputs": [
    {
     "name": "stdout",
     "output_type": "stream",
     "text": [
      "Epsilon 0.010: Robust accuracy 0.00000\n",
      "Epsilon 0.020: Robust accuracy 0.00000\n",
      "Epsilon 0.030: Robust accuracy 0.00000\n",
      "Epsilon 0.040: Robust accuracy 0.00000\n",
      "Epsilon 0.050: Robust accuracy 0.00000\n",
      "Epsilon 0.060: Robust accuracy 0.00000\n",
      "Epsilon 0.070: Robust accuracy 0.00000\n",
      "Epsilon 0.080: Robust accuracy 0.00000\n",
      "Epsilon 0.090: Robust accuracy 0.00000\n",
      "Epsilon 0.100: Robust accuracy 0.00000\n"
     ]
    }
   ],
   "source": [
    "for i in range(1,11):\n",
    "    get_robust_accuracy(base_model, 0.01*i)"
   ]
  },
  {
   "cell_type": "code",
   "execution_count": 8,
   "id": "9a4829cb",
   "metadata": {},
   "outputs": [],
   "source": [
    "def robust_train_model(model, num_epochs, delta, kappa_min, kappa_max):\n",
    "    learning_rate = 0.001\n",
    "    opt = optim.Adam(params=model.parameters(), lr=learning_rate)\n",
    "    fit_loss = torch.nn.CrossEntropyLoss()\n",
    "    spec_loss = torch.nn.CrossEntropyLoss()\n",
    "\n",
    "    for epoch in range(1,num_epochs+1):\n",
    "        t1 = time.time()\n",
    "        \n",
    "        kappa = kappa_max - (kappa_max-kappa_min)*(epoch-1)/(num_epochs-1)\n",
    "        \n",
    "        for batch_idx, (x_batch, y_batch) in enumerate(train_loader):\n",
    "            x_batch, y_batch = x_batch.to(device), y_batch.to(device)   \n",
    "            opt.zero_grad()\n",
    "\n",
    "            w0,b0,w1,b1,w2,b2,w3,b3 = model.parameters()\n",
    "            b0, b1, b2, b3 = b0.reshape(-1,1), b1.reshape(-1,1), b2.reshape(-1,1), b3.reshape(-1,1)\n",
    "            \n",
    "            il, iu = get_interval_input(x_batch, delta)\n",
    "            il, iu = il.view((-1,784,1)), iu.view((-1,784,1))\n",
    "            \n",
    "            l1l = torch.matmul(torch.maximum(w0, torch.tensor(0)), il) + torch.matmul(torch.minimum(w0, torch.tensor(0)), iu)\n",
    "            l1u = torch.matmul(torch.maximum(w0, torch.tensor(0)), iu) + torch.matmul(torch.minimum(w0, torch.tensor(0)), il)\n",
    "            l1l, l1u = torch.maximum(l1l + b0, torch.tensor(0)), torch.maximum(l1u + b0, torch.tensor(0))\n",
    "            \n",
    "            l2l = torch.matmul(torch.maximum(w1, torch.tensor(0)), l1l) + torch.matmul(torch.minimum(w1, torch.tensor(0)), l1u)\n",
    "            l2u = torch.matmul(torch.maximum(w1, torch.tensor(0)), l1u) + torch.matmul(torch.minimum(w1, torch.tensor(0)), l1l)\n",
    "            l2l, l2u = torch.maximum(l2l + b1, torch.tensor(0)), torch.maximum(l2u + b1, torch.tensor(0))\n",
    "            \n",
    "            l3l = torch.matmul(torch.maximum(w2, torch.tensor(0)), l2l) + torch.matmul(torch.minimum(w2, torch.tensor(0)), l2u)\n",
    "            l3u = torch.matmul(torch.maximum(w2, torch.tensor(0)), l2u) + torch.matmul(torch.minimum(w2, torch.tensor(0)), l2l)\n",
    "            l3l, l3u = torch.maximum(l3l + b2, torch.tensor(0)), torch.maximum(l3u + b2, torch.tensor(0))\n",
    "            \n",
    "            ol = torch.matmul(torch.maximum(w3, torch.tensor(0)), l3l) + torch.matmul(torch.minimum(w3, torch.tensor(0)), l3u)\n",
    "            ou = torch.matmul(torch.maximum(w3, torch.tensor(0)), l3u) + torch.matmul(torch.minimum(w3, torch.tensor(0)), l3l)\n",
    "            ol, ou = ol + b3, ou + b3\n",
    "            \n",
    "            true_mask = F.one_hot(y_batch, num_classes=10)\n",
    "            false_mask = 1 - true_mask\n",
    "            worst = ou[:,:,0] * false_mask + ol[:,:,0] * true_mask\n",
    "            \n",
    "            out = model(x_batch)\n",
    "            batch_loss = kappa*fit_loss(out, y_batch) + (1-kappa)*spec_loss(worst, y_batch)\n",
    "            batch_loss.backward()\n",
    "            opt.step()\n",
    "\n",
    "        tot_test, tot_acc = 0.0, 0.0\n",
    "        for batch_idx, (x_batch, y_batch) in enumerate(test_loader):\n",
    "            x_batch, y_batch = x_batch.to(device), y_batch.to(device)\n",
    "            out = model(x_batch)\n",
    "            pred = torch.max(out, dim=1)[1]\n",
    "            acc = pred.eq(y_batch).sum().item()\n",
    "            tot_acc += acc\n",
    "            tot_test += x_batch.size()[0]\n",
    "        t2 = time.time()\n",
    "\n",
    "        print('Epoch %d: Accuracy %.5lf [%.2lf seconds]' % (epoch, tot_acc/tot_test, t2-t1))"
   ]
  },
  {
   "cell_type": "code",
   "execution_count": 9,
   "id": "d474a8fd",
   "metadata": {},
   "outputs": [
    {
     "name": "stdout",
     "output_type": "stream",
     "text": [
      "Epoch 1: Accuracy 0.93310 [16.86 seconds]\n",
      "Epoch 2: Accuracy 0.93760 [16.81 seconds]\n",
      "Epoch 3: Accuracy 0.94010 [17.14 seconds]\n",
      "Epoch 4: Accuracy 0.94620 [16.86 seconds]\n",
      "Epoch 5: Accuracy 0.94880 [16.78 seconds]\n",
      "Epoch 6: Accuracy 0.94950 [17.90 seconds]\n",
      "Epoch 7: Accuracy 0.95240 [17.23 seconds]\n",
      "Epoch 8: Accuracy 0.95080 [15.78 seconds]\n",
      "Epoch 9: Accuracy 0.95350 [17.43 seconds]\n",
      "Epoch 10: Accuracy 0.95150 [16.28 seconds]\n",
      "Epoch 11: Accuracy 0.95260 [16.97 seconds]\n",
      "Epoch 12: Accuracy 0.95000 [17.07 seconds]\n",
      "Epoch 13: Accuracy 0.94880 [16.45 seconds]\n",
      "Epoch 14: Accuracy 0.94980 [17.15 seconds]\n",
      "Epoch 15: Accuracy 0.95010 [19.86 seconds]\n",
      "Epoch 16: Accuracy 0.94820 [17.53 seconds]\n",
      "Epoch 17: Accuracy 0.94840 [17.82 seconds]\n",
      "Epoch 18: Accuracy 0.94840 [17.63 seconds]\n",
      "Epoch 19: Accuracy 0.94850 [16.95 seconds]\n",
      "Epoch 20: Accuracy 0.94700 [16.92 seconds]\n",
      "Epoch 21: Accuracy 0.94800 [17.41 seconds]\n",
      "Epoch 22: Accuracy 0.94650 [16.91 seconds]\n",
      "Epoch 23: Accuracy 0.94610 [18.71 seconds]\n",
      "Epoch 24: Accuracy 0.94490 [18.49 seconds]\n",
      "Epoch 25: Accuracy 0.94390 [17.56 seconds]\n",
      "Epoch 26: Accuracy 0.94060 [18.05 seconds]\n",
      "Epoch 27: Accuracy 0.94340 [17.03 seconds]\n",
      "Epoch 28: Accuracy 0.94120 [17.48 seconds]\n",
      "Epoch 29: Accuracy 0.94140 [18.30 seconds]\n",
      "Epoch 30: Accuracy 0.94140 [17.29 seconds]\n"
     ]
    }
   ],
   "source": [
    "robust_model = nn.Sequential(Net())\n",
    "robust_model = robust_model.to(device)\n",
    "robust_model.train()\n",
    "robust_train_model(robust_model, 30, 0.1, 0.5, 1)"
   ]
  },
  {
   "cell_type": "code",
   "execution_count": 10,
   "id": "0cf9231a",
   "metadata": {},
   "outputs": [
    {
     "name": "stdout",
     "output_type": "stream",
     "text": [
      "Epsilon 0.010: Robust accuracy 0.92550\n",
      "Epsilon 0.020: Robust accuracy 0.90800\n",
      "Epsilon 0.030: Robust accuracy 0.89480\n",
      "Epsilon 0.040: Robust accuracy 0.88300\n",
      "Epsilon 0.050: Robust accuracy 0.87040\n",
      "Epsilon 0.060: Robust accuracy 0.85680\n",
      "Epsilon 0.070: Robust accuracy 0.83660\n",
      "Epsilon 0.080: Robust accuracy 0.81700\n",
      "Epsilon 0.090: Robust accuracy 0.79390\n",
      "Epsilon 0.100: Robust accuracy 0.76750\n"
     ]
    }
   ],
   "source": [
    "for i in range(1,11):\n",
    "    get_robust_accuracy(robust_model, 0.01*i)"
   ]
  },
  {
   "cell_type": "code",
   "execution_count": null,
   "id": "56d890fe",
   "metadata": {},
   "outputs": [],
   "source": []
  }
 ],
 "metadata": {
  "kernelspec": {
   "display_name": "Python 3 (ipykernel)",
   "language": "python",
   "name": "python3"
  },
  "language_info": {
   "codemirror_mode": {
    "name": "ipython",
    "version": 3
   },
   "file_extension": ".py",
   "mimetype": "text/x-python",
   "name": "python",
   "nbconvert_exporter": "python",
   "pygments_lexer": "ipython3",
   "version": "3.8.10"
  }
 },
 "nbformat": 4,
 "nbformat_minor": 5
}
