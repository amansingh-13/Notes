{
 "cells": [
  {
   "cell_type": "code",
   "execution_count": 1,
   "id": "91b5b5d3",
   "metadata": {},
   "outputs": [],
   "source": [
    "import torch\n",
    "import torch.nn as nn\n",
    "import torch.optim as optim\n",
    "import torch.nn.functional as F\n",
    "import numpy as np\n",
    "import time\n",
    "\n",
    "from torchvision import datasets, transforms\n",
    "from tensorboardX import SummaryWriter\n",
    "\n",
    "device = torch.device(\"cpu\")\n",
    "batch_size = 64\n",
    "\n",
    "np.random.seed(42)\n",
    "torch.manual_seed(42)\n",
    "\n",
    "train_dataset = datasets.MNIST('mnist_data/', train=True, download=True, transform=transforms.Compose(\n",
    "    [transforms.ToTensor()]\n",
    "))\n",
    "test_dataset = datasets.MNIST('mnist_data/', train=False, download=True, transform=transforms.Compose(\n",
    "    [transforms.ToTensor()]\n",
    "))\n",
    "\n",
    "train_loader = torch.utils.data.DataLoader(train_dataset, batch_size=batch_size, shuffle=True)\n",
    "test_loader = torch.utils.data.DataLoader(test_dataset, batch_size=batch_size, shuffle=False)"
   ]
  },
  {
   "cell_type": "code",
   "execution_count": 2,
   "id": "faade437",
   "metadata": {},
   "outputs": [],
   "source": [
    "class Net(nn.Module):\n",
    "    def __init__(self):\n",
    "        super(Net, self).__init__()\n",
    "        self.fc1 = nn.Linear(28*28, 50)\n",
    "        self.fc2 = nn.Linear(50,50)\n",
    "        self.fc3 = nn.Linear(50,50)\n",
    "        self.fc4 = nn.Linear(50,10)\n",
    "\n",
    "    def forward(self, x):\n",
    "        x = x.view((-1, 28*28))\n",
    "        x = F.relu(self.fc1(x))\n",
    "        x = F.relu(self.fc2(x))\n",
    "        x = F.relu(self.fc3(x))\n",
    "        x = self.fc4(x)\n",
    "        return x"
   ]
  },
  {
   "cell_type": "code",
   "execution_count": 3,
   "id": "864e374e",
   "metadata": {},
   "outputs": [],
   "source": [
    "def train_model(model, num_epochs):\n",
    "    learning_rate = 0.0001\n",
    "    opt = optim.Adam(params=model.parameters(), lr=learning_rate)\n",
    "    ce_loss = torch.nn.CrossEntropyLoss()\n",
    "\n",
    "    for epoch in range(1,num_epochs+1):\n",
    "        t1 = time.time()\n",
    "\n",
    "        for batch_idx, (x_batch, y_batch) in enumerate(train_loader):\n",
    "            x_batch, y_batch = x_batch.to(device), y_batch.to(device)      \n",
    "            opt.zero_grad()\n",
    "            out = model(x_batch)\n",
    "            batch_loss = ce_loss(out, y_batch)\n",
    "            batch_loss.backward()\n",
    "            opt.step()\n",
    "\n",
    "        tot_test, tot_acc = 0.0, 0.0\n",
    "        for batch_idx, (x_batch, y_batch) in enumerate(test_loader):\n",
    "            x_batch, y_batch = x_batch.to(device), y_batch.to(device)\n",
    "            out = model(x_batch)\n",
    "            pred = torch.max(out, dim=1)[1]\n",
    "            acc = pred.eq(y_batch).sum().item()\n",
    "            tot_acc += acc\n",
    "            tot_test += x_batch.size()[0]\n",
    "        t2 = time.time()\n",
    "\n",
    "        print('Epoch %d: Accuracy %.5lf [%.2lf seconds]' % (epoch, tot_acc/tot_test, t2-t1))"
   ]
  },
  {
   "cell_type": "code",
   "execution_count": 4,
   "id": "03254235",
   "metadata": {},
   "outputs": [
    {
     "name": "stderr",
     "output_type": "stream",
     "text": [
      "/home/aman/.local/lib/python3.8/site-packages/torch/autograd/__init__.py:200: UserWarning: CUDA initialization: CUDA unknown error - this may be due to an incorrectly set up environment, e.g. changing env variable CUDA_VISIBLE_DEVICES after program start. Setting the available devices to be zero. (Triggered internally at ../c10/cuda/CUDAFunctions.cpp:109.)\n",
      "  Variable._execution_engine.run_backward(  # Calls into the C++ engine to run the backward pass\n"
     ]
    },
    {
     "name": "stdout",
     "output_type": "stream",
     "text": [
      "Epoch 1: Accuracy 0.86280 [7.95 seconds]\n",
      "Epoch 2: Accuracy 0.90360 [7.85 seconds]\n",
      "Epoch 3: Accuracy 0.91270 [7.85 seconds]\n",
      "Epoch 4: Accuracy 0.91880 [8.25 seconds]\n",
      "Epoch 5: Accuracy 0.92410 [9.48 seconds]\n",
      "Epoch 6: Accuracy 0.92990 [9.80 seconds]\n",
      "Epoch 7: Accuracy 0.93310 [11.12 seconds]\n",
      "Epoch 8: Accuracy 0.93580 [10.65 seconds]\n",
      "Epoch 9: Accuracy 0.93970 [9.94 seconds]\n",
      "Epoch 10: Accuracy 0.94150 [10.49 seconds]\n",
      "Epoch 11: Accuracy 0.94430 [10.56 seconds]\n",
      "Epoch 12: Accuracy 0.94610 [10.35 seconds]\n",
      "Epoch 13: Accuracy 0.94980 [11.20 seconds]\n",
      "Epoch 14: Accuracy 0.95010 [11.33 seconds]\n",
      "Epoch 15: Accuracy 0.95350 [11.32 seconds]\n"
     ]
    }
   ],
   "source": [
    "base_model = nn.Sequential(Net())\n",
    "base_model = base_model.to(device)\n",
    "base_model.train()\n",
    "train_model(base_model, 15)"
   ]
  },
  {
   "cell_type": "code",
   "execution_count": 5,
   "id": "aa623bef",
   "metadata": {},
   "outputs": [],
   "source": [
    "def get_interval_input(img, delta):\n",
    "    il = torch.maximum(img - delta, torch.tensor(0))\n",
    "    iu = torch.minimum(img + delta, torch.tensor(1))\n",
    "    return il, iu"
   ]
  },
  {
   "cell_type": "code",
   "execution_count": 6,
   "id": "54be3f50",
   "metadata": {
    "scrolled": true
   },
   "outputs": [],
   "source": [
    "def get_robust_accuracy(model, delta):\n",
    "    tot_test, tot_acc = 0.0, 0.0\n",
    "    for batch_idx, (x_batch, y_batch) in enumerate(test_loader):\n",
    "        x_batch, y_batch = x_batch.to(device), y_batch.to(device)\n",
    "        w0,b0,w1,b1,w2,b2,w3,b3 = model.parameters()\n",
    "        b0, b1, b2, b3 = b0.reshape(-1,1), b1.reshape(-1,1), b2.reshape(-1,1), b3.reshape(-1,1)\n",
    "        \n",
    "        il, iu = get_interval_input(x_batch, delta)\n",
    "        il, iu = il.view((-1,784,1)), iu.view((-1,784,1))\n",
    "            \n",
    "        l1l = torch.matmul(torch.maximum(w0, torch.tensor(0)), il) + torch.matmul(torch.minimum(w0, torch.tensor(0)), iu)\n",
    "        l1u = torch.matmul(torch.maximum(w0, torch.tensor(0)), iu) + torch.matmul(torch.minimum(w0, torch.tensor(0)), il)\n",
    "        l1l, l1u = torch.maximum(l1l + b0, torch.tensor(0)), torch.maximum(l1u + b0, torch.tensor(0))\n",
    "\n",
    "        l2l = torch.matmul(torch.maximum(w1, torch.tensor(0)), l1l) + torch.matmul(torch.minimum(w1, torch.tensor(0)), l1u)\n",
    "        l2u = torch.matmul(torch.maximum(w1, torch.tensor(0)), l1u) + torch.matmul(torch.minimum(w1, torch.tensor(0)), l1l)\n",
    "        l2l, l2u = torch.maximum(l2l + b1, torch.tensor(0)), torch.maximum(l2u + b1, torch.tensor(0))\n",
    "\n",
    "        l3l = torch.matmul(torch.maximum(w2, torch.tensor(0)), l2l) + torch.matmul(torch.minimum(w2, torch.tensor(0)), l2u)\n",
    "        l3u = torch.matmul(torch.maximum(w2, torch.tensor(0)), l2u) + torch.matmul(torch.minimum(w2, torch.tensor(0)), l2l)\n",
    "        l3l, l3u = torch.maximum(l3l + b2, torch.tensor(0)), torch.maximum(l3u + b2, torch.tensor(0))\n",
    "\n",
    "        ol = torch.matmul(torch.maximum(w3, torch.tensor(0)), l3l) + torch.matmul(torch.minimum(w3, torch.tensor(0)), l3u)\n",
    "        ou = torch.matmul(torch.maximum(w3, torch.tensor(0)), l3u) + torch.matmul(torch.minimum(w3, torch.tensor(0)), l3l)\n",
    "        ol, ou = ol + b3, ou + b3\n",
    "\n",
    "        for idx, t in enumerate(y_batch):\n",
    "            robust = True\n",
    "            for j in range(10):\n",
    "                if j != t:\n",
    "                    robust = robust and (ol[idx][t] > ou[idx][j])\n",
    "            tot_acc += 1 if robust else 0\n",
    "    \n",
    "        tot_test += x_batch.size()[0]\n",
    "    print('Epsilon %.3lf: Robust accuracy %.5lf' % (delta, tot_acc/tot_test))"
   ]
  },
  {
   "cell_type": "code",
   "execution_count": 7,
   "id": "a3f7e87e",
   "metadata": {},
   "outputs": [
    {
     "name": "stdout",
     "output_type": "stream",
     "text": [
      "Epsilon 0.010: Robust accuracy 0.00000\n",
      "Epsilon 0.020: Robust accuracy 0.00000\n",
      "Epsilon 0.030: Robust accuracy 0.00000\n",
      "Epsilon 0.040: Robust accuracy 0.00000\n",
      "Epsilon 0.050: Robust accuracy 0.00000\n",
      "Epsilon 0.060: Robust accuracy 0.00000\n",
      "Epsilon 0.070: Robust accuracy 0.00000\n",
      "Epsilon 0.080: Robust accuracy 0.00000\n",
      "Epsilon 0.090: Robust accuracy 0.00000\n",
      "Epsilon 0.100: Robust accuracy 0.00000\n"
     ]
    }
   ],
   "source": [
    "for i in range(1,11):\n",
    "    get_robust_accuracy(base_model, 0.01*i)"
   ]
  },
  {
   "cell_type": "code",
   "execution_count": 8,
   "id": "9e051cb6",
   "metadata": {},
   "outputs": [],
   "source": [
    "def robust_train_model(model, num_epochs, delta, kappa_min, kappa_max):\n",
    "    learning_rate = 0.001\n",
    "    opt = optim.Adam(params=model.parameters(), lr=learning_rate)\n",
    "    fit_loss = torch.nn.CrossEntropyLoss()\n",
    "    spec_loss = torch.nn.CrossEntropyLoss()\n",
    "\n",
    "    for epoch in range(1,num_epochs+1):\n",
    "        t1 = time.time()\n",
    "        \n",
    "        kappa = kappa_max - (kappa_max-kappa_min)*(epoch-1)/(num_epochs-1)\n",
    "        \n",
    "        for batch_idx, (x_batch, y_batch) in enumerate(train_loader):\n",
    "            x_batch, y_batch = x_batch.to(device), y_batch.to(device)   \n",
    "            opt.zero_grad()\n",
    "\n",
    "            w0,b0,w1,b1,w2,b2,w3,b3 = model.parameters()\n",
    "            b0, b1, b2, b3 = b0.reshape(-1,1), b1.reshape(-1,1), b2.reshape(-1,1), b3.reshape(-1,1)\n",
    "            \n",
    "            il, iu = get_interval_input(x_batch, delta)\n",
    "            il, iu = il.view((-1,784,1)), iu.view((-1,784,1))\n",
    "            \n",
    "            l1l = torch.matmul(torch.maximum(w0, torch.tensor(0)), il) + torch.matmul(torch.minimum(w0, torch.tensor(0)), iu)\n",
    "            l1u = torch.matmul(torch.maximum(w0, torch.tensor(0)), iu) + torch.matmul(torch.minimum(w0, torch.tensor(0)), il)\n",
    "            l1l, l1u = torch.maximum(l1l + b0, torch.tensor(0)), torch.maximum(l1u + b0, torch.tensor(0))\n",
    "            \n",
    "            l2l = torch.matmul(torch.maximum(w1, torch.tensor(0)), l1l) + torch.matmul(torch.minimum(w1, torch.tensor(0)), l1u)\n",
    "            l2u = torch.matmul(torch.maximum(w1, torch.tensor(0)), l1u) + torch.matmul(torch.minimum(w1, torch.tensor(0)), l1l)\n",
    "            l2l, l2u = torch.maximum(l2l + b1, torch.tensor(0)), torch.maximum(l2u + b1, torch.tensor(0))\n",
    "            \n",
    "            l3l = torch.matmul(torch.maximum(w2, torch.tensor(0)), l2l) + torch.matmul(torch.minimum(w2, torch.tensor(0)), l2u)\n",
    "            l3u = torch.matmul(torch.maximum(w2, torch.tensor(0)), l2u) + torch.matmul(torch.minimum(w2, torch.tensor(0)), l2l)\n",
    "            l3l, l3u = torch.maximum(l3l + b2, torch.tensor(0)), torch.maximum(l3u + b2, torch.tensor(0))\n",
    "            \n",
    "            ol = torch.matmul(torch.maximum(w3, torch.tensor(0)), l3l) + torch.matmul(torch.minimum(w3, torch.tensor(0)), l3u)\n",
    "            ou = torch.matmul(torch.maximum(w3, torch.tensor(0)), l3u) + torch.matmul(torch.minimum(w3, torch.tensor(0)), l3l)\n",
    "            ol, ou = ol + b3, ou + b3\n",
    "            \n",
    "            true_mask = F.one_hot(y_batch, num_classes=10)\n",
    "            false_mask = 1 - true_mask\n",
    "            worst = ou[:,:,0] * false_mask + ol[:,:,0] * true_mask\n",
    "            \n",
    "            out = model(x_batch)\n",
    "            batch_loss = kappa*fit_loss(out, y_batch) + (1-kappa)*spec_loss(worst, y_batch)\n",
    "            batch_loss.backward()\n",
    "            opt.step()\n",
    "\n",
    "        tot_test, tot_acc = 0.0, 0.0\n",
    "        for batch_idx, (x_batch, y_batch) in enumerate(test_loader):\n",
    "            x_batch, y_batch = x_batch.to(device), y_batch.to(device)\n",
    "            out = model(x_batch)\n",
    "            pred = torch.max(out, dim=1)[1]\n",
    "            acc = pred.eq(y_batch).sum().item()\n",
    "            tot_acc += acc\n",
    "            tot_test += x_batch.size()[0]\n",
    "        t2 = time.time()\n",
    "\n",
    "        print('Epoch %d: Accuracy %.5lf [%.2lf seconds]' % (epoch, tot_acc/tot_test, t2-t1))"
   ]
  },
  {
   "cell_type": "code",
   "execution_count": 9,
   "id": "6154dea7",
   "metadata": {},
   "outputs": [
    {
     "name": "stdout",
     "output_type": "stream",
     "text": [
      "Epoch 1: Accuracy 0.93190 [16.00 seconds]\n",
      "Epoch 2: Accuracy 0.93390 [16.28 seconds]\n",
      "Epoch 3: Accuracy 0.94390 [17.57 seconds]\n",
      "Epoch 4: Accuracy 0.95040 [16.25 seconds]\n",
      "Epoch 5: Accuracy 0.95080 [17.82 seconds]\n",
      "Epoch 6: Accuracy 0.95120 [16.81 seconds]\n",
      "Epoch 7: Accuracy 0.95160 [16.59 seconds]\n",
      "Epoch 8: Accuracy 0.95330 [16.99 seconds]\n",
      "Epoch 9: Accuracy 0.95310 [16.15 seconds]\n",
      "Epoch 10: Accuracy 0.95430 [17.24 seconds]\n",
      "Epoch 11: Accuracy 0.95440 [17.55 seconds]\n",
      "Epoch 12: Accuracy 0.95420 [17.26 seconds]\n",
      "Epoch 13: Accuracy 0.95410 [17.47 seconds]\n",
      "Epoch 14: Accuracy 0.95170 [18.52 seconds]\n",
      "Epoch 15: Accuracy 0.95120 [17.42 seconds]\n",
      "Epoch 16: Accuracy 0.95210 [16.01 seconds]\n",
      "Epoch 17: Accuracy 0.95140 [16.40 seconds]\n",
      "Epoch 18: Accuracy 0.95160 [16.58 seconds]\n",
      "Epoch 19: Accuracy 0.95160 [16.44 seconds]\n",
      "Epoch 20: Accuracy 0.94900 [16.79 seconds]\n",
      "Epoch 21: Accuracy 0.95130 [15.54 seconds]\n",
      "Epoch 22: Accuracy 0.95110 [15.63 seconds]\n",
      "Epoch 23: Accuracy 0.95080 [16.07 seconds]\n",
      "Epoch 24: Accuracy 0.95120 [16.62 seconds]\n",
      "Epoch 25: Accuracy 0.94890 [16.74 seconds]\n",
      "Epoch 26: Accuracy 0.94810 [17.01 seconds]\n",
      "Epoch 27: Accuracy 0.94900 [17.84 seconds]\n",
      "Epoch 28: Accuracy 0.94730 [17.30 seconds]\n",
      "Epoch 29: Accuracy 0.94730 [16.59 seconds]\n",
      "Epoch 30: Accuracy 0.94680 [16.52 seconds]\n"
     ]
    }
   ],
   "source": [
    "robust_model = nn.Sequential(Net())\n",
    "robust_model = robust_model.to(device)\n",
    "robust_model.train()\n",
    "robust_train_model(robust_model, 30, 0.1, 0.5, 1)"
   ]
  },
  {
   "cell_type": "code",
   "execution_count": 10,
   "id": "59c06363",
   "metadata": {},
   "outputs": [
    {
     "name": "stdout",
     "output_type": "stream",
     "text": [
      "Epsilon 0.010: Robust accuracy 0.92820\n",
      "Epsilon 0.020: Robust accuracy 0.91320\n",
      "Epsilon 0.030: Robust accuracy 0.90110\n",
      "Epsilon 0.040: Robust accuracy 0.89040\n",
      "Epsilon 0.050: Robust accuracy 0.87580\n",
      "Epsilon 0.060: Robust accuracy 0.86090\n",
      "Epsilon 0.070: Robust accuracy 0.84380\n",
      "Epsilon 0.080: Robust accuracy 0.82270\n",
      "Epsilon 0.090: Robust accuracy 0.79810\n",
      "Epsilon 0.100: Robust accuracy 0.76940\n"
     ]
    }
   ],
   "source": [
    "for i in range(1,11):\n",
    "    get_robust_accuracy(robust_model, 0.01*i)"
   ]
  },
  {
   "cell_type": "code",
   "execution_count": null,
   "id": "8544b632",
   "metadata": {},
   "outputs": [],
   "source": []
  }
 ],
 "metadata": {
  "kernelspec": {
   "display_name": "Python 3 (ipykernel)",
   "language": "python",
   "name": "python3"
  },
  "language_info": {
   "codemirror_mode": {
    "name": "ipython",
    "version": 3
   },
   "file_extension": ".py",
   "mimetype": "text/x-python",
   "name": "python",
   "nbconvert_exporter": "python",
   "pygments_lexer": "ipython3",
   "version": "3.8.10"
  }
 },
 "nbformat": 4,
 "nbformat_minor": 5
}
